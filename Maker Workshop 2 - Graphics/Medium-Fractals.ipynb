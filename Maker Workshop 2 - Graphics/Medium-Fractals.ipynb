{
 "cells": [
  {
   "cell_type": "markdown",
   "metadata": {},
   "source": [
    "This is the medium version of mandelbrot."
   ]
  },
  {
   "cell_type": "code",
   "execution_count": null,
   "metadata": {
    "collapsed": true
   },
   "outputs": [],
   "source": [
    "import cmath\n",
    "# Hint: you can create a complex number c = x + yi by doing complex(x, y)\n",
    "# Create the mandelbrot set by filling in the blanks!\n",
    "\n",
    "mandelbrot = Image.new('L', (140, 140))\n",
    "res = 70\n",
    "pix = mandelbrot.load()\n",
    "maxCount = 0\n",
    "temp = [[0 for x in range(mandelbrot.width)] for y in range(mandelbrot.height)] \n",
    "\n",
    "\n",
    "for y in range(mandelbrot.height):\n",
    "    for x in range(mandelbrot.width):\n",
    "        x_p = (x - res) / res\n",
    "        y_p = (y - res) / res\n",
    "        \n",
    "        c = #FILL IN HERE WHAT C SHOULD BE#\n",
    "        z = #FILL IN HERE WHAT Z SHOULD BE#\n",
    "        count = #FILL IN HERE WHAT COUNT SHOULD BE AT FIRST. COUNT IS THE NUMBER OF TIMES YOU UPDATE Z#\n",
    "        \n",
    "        for i in range(1000):\n",
    "            \n",
    "            z = #FILL IN HERE WHAT Z SHOULD BE AT EACH STEP#\n",
    "            count = #FILL IN HERE WHAT COUNT SHOULD BE AT EACH STEP#\n",
    "            \n",
    "            if abs(z) > 2:\n",
    "                if count > maxCount:\n",
    "                    maxCount = count\n",
    "                break\n",
    "        temp[x][y] = count\n",
    "        \n",
    "for y in range(mandelbrot.height):\n",
    "    for x in range(mandelbrot.width):\n",
    "        pix[x, y] = round(temp[x][y] / maxCount * 255)\n",
    "        \n",
    "# Display the image\n",
    "show_image(mandelbrot, (10,10))"
   ]
  },
  {
   "cell_type": "markdown",
   "metadata": {},
   "source": [
    "This is the medium version of julia."
   ]
  },
  {
   "cell_type": "code",
   "execution_count": null,
   "metadata": {
    "collapsed": true
   },
   "outputs": [],
   "source": [
    "import cmath\n",
    "\n",
    "# Create the julia set by filling in the blanks!\n",
    "#First, choose your c!#\n",
    "#Some possible options are: complex(0, -0.8), complex(-0.835, -0.2321) #\n",
    "\n",
    "c = #FILL IN HERE YOUR VALUE OF C#\n",
    "julia = Image.new('RGB', (500, 500))\n",
    "res = 250\n",
    "pix = julia.load()\n",
    "maxCount = 0\n",
    "temp = [[0 for x in range(julia.width)] for y in range(julia.height)] \n",
    "\n",
    "\n",
    "for y in range(julia.height):\n",
    "    for x in range(julia.width):\n",
    "        x_p = (x - res) / res\n",
    "        y_p = (y - res) / res\n",
    "        \n",
    "        z = #FILL IN HERE WHAT Z SHOULD BE AT FIRST#\n",
    "        count = #FILL IN HERE WHAT COUNT SHOULD BE AT FIRST. COUNT IS THE NUMBER OF TIMES YOU UPDATE Z#\n",
    "        \n",
    "        for i in range(1000):\n",
    "            \n",
    "            z = #FILL IN HERE WHAT Z SHOULD BE AT EACH STEP#\n",
    "            count = #FILL IN HERE WHAT COUNT SHOULD BE AT EACH STEP#\n",
    "            \n",
    "            if abs(z) > 2:\n",
    "                if count > maxCount:\n",
    "                    maxCount = count\n",
    "                break\n",
    "        temp[x][y] = count\n",
    "        \n",
    "for y in range(julia.height):\n",
    "    for x in range(julia.width):\n",
    "        pix[x, y] = (0, 0, round(temp[x][y] / maxCount * 600))\n",
    "        \n",
    "# Display the image\n",
    "show_image(julia, (10,10))"
   ]
  }
 ],
 "metadata": {
  "kernelspec": {
   "display_name": "Python 3",
   "language": "python",
   "name": "python3"
  },
  "language_info": {
   "codemirror_mode": {
    "name": "ipython",
    "version": 3
   },
   "file_extension": ".py",
   "mimetype": "text/x-python",
   "name": "python",
   "nbconvert_exporter": "python",
   "pygments_lexer": "ipython3",
   "version": "3.6.1"
  }
 },
 "nbformat": 4,
 "nbformat_minor": 2
}
