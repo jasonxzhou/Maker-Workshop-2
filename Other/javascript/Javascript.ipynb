{
 "cells": [
  {
   "cell_type": "markdown",
   "metadata": {},
   "source": [
    "# Javascript\n",
    "\n",
    "Here are the links to the Javascript tutorials:\n",
    "1. https://repl.it/EWtF/latest\n",
    "2. https://repl.it/E032/latest\n",
    "3. https://repl.it/E1hr/latest\n",
    "4. https://repl.it/E03a/latest\n",
    "5. https://repl.it/E03j/latest\n",
    "6. https://repl.it/E03l/latest\n",
    "7. https://repl.it/E03m/latest\n",
    "8. https://repl.it/E03o/latest\n",
    "\n",
    "### Examples\n",
    "\n",
    "There are several folders that have example games you can check out and modify!"
   ]
  }
 ],
 "metadata": {
  "kernelspec": {
   "display_name": "Python 3",
   "language": "python",
   "name": "python3"
  },
  "language_info": {
   "codemirror_mode": {
    "name": "ipython",
    "version": 3
   },
   "file_extension": ".py",
   "mimetype": "text/x-python",
   "name": "python",
   "nbconvert_exporter": "python",
   "pygments_lexer": "ipython3",
   "version": "3.5.1"
  }
 },
 "nbformat": 4,
 "nbformat_minor": 1
}
