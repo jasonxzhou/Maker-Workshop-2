{
 "cells": [
  {
   "cell_type": "markdown",
   "metadata": {},
   "source": [
    "# Reddit Bot Programming Module\n",
    "This module will teach you some basic skills needed to create your very own Reddit Bot, while learning about the basics of the Python programming language. Progammers of all levels are welcome, even those with little to no programming experience. We will start with a brief overview of Python3 and programming models, and then move into more specifics for our reddit bot\n",
    "\n",
    "\n",
    "\n"
   ]
  },
  {
   "cell_type": "markdown",
   "metadata": {},
   "source": [
    "## Python Overview\n",
    "At their core, programming is made up of only a few basic data types. Let's look at a few key ones: `strings`, `ints` and the `None` type\n",
    "\n",
    "`Strings` are elements that hold text. The following code initializes a variable named string and puts the value \"hello world\" into it. We then print out the string to the console. "
   ]
  },
  {
   "cell_type": "code",
   "execution_count": null,
   "metadata": {
    "collapsed": false
   },
   "outputs": [],
   "source": [
    "# by the way, it's often helpful to put comments in our code, so that humans can understand it\n",
    "# all text found after a hashtag (#) are ignored by our code interpreter\n",
    "\n",
    "\n",
    "string = \"hello world\"  # this saves the string (text) into our variable string\n",
    "print(string)"
   ]
  },
  {
   "cell_type": "markdown",
   "metadata": {},
   "source": [
    "You should notice that the text `hello world` appeared below our previous cell. This is the result of calling `print` on a string. Try changing the text in our variable and seeing how the print message changes accordingly.\n",
    "\n",
    "One nice feature of strings in python is that we can easily concatinate (read: add) them. The following code shows how we can concatinate strings\n"
   ]
  },
  {
   "cell_type": "code",
   "execution_count": null,
   "metadata": {
    "collapsed": false
   },
   "outputs": [],
   "source": [
    "added_string = \"let's add \"\n",
    "added_string += \"more text to this string\"\n",
    "\n",
    "print(added_string)\n"
   ]
  },
  {
   "cell_type": "markdown",
   "metadata": {},
   "source": [
    "As we can see, adding strings together joins them together into one larger string. "
   ]
  },
  {
   "cell_type": "markdown",
   "metadata": {},
   "source": [
    "Next, we'll look at `ints`, short for integers. As you might guess from their name, `ints` are used to store numbers, and we can perform any basic arithmetic on them. Below we show a few examples"
   ]
  },
  {
   "cell_type": "code",
   "execution_count": null,
   "metadata": {
    "collapsed": true
   },
   "outputs": [],
   "source": [
    "num = 10  # num is now equal to the number 10\n",
    "num_two = num + 10  # what do you think num_two is equal to now?\n",
    "num_three = num * 5  # how about num_three ?\n",
    "num_four = num_three / 20\n"
   ]
  },
  {
   "cell_type": "markdown",
   "metadata": {},
   "source": [
    "Lets try printing out our values to see if our intuition was correct"
   ]
  },
  {
   "cell_type": "code",
   "execution_count": null,
   "metadata": {
    "collapsed": false
   },
   "outputs": [],
   "source": [
    "print(\"num = \" + str(num))              #  you might be wondering what the mysterious \"str()\" around our variable is.\n",
    "print(\"num_two = \" + str(num))          #  All it does is convert our integer num into a string so that we can \n",
    "print(\"num_three = \" + str(num_three))  #  concatinate it with the text before\n",
    "print(\"num_four = \" + str(num_four))"
   ]
  },
  {
   "cell_type": "markdown",
   "metadata": {},
   "source": [
    "## Reddint Bot Overview\n",
    "We will be creating today something we call a **Software Bot** (versus what we typically think of for a Robot) that will be able to automatically read information from a website (Reddit.com) and perform some set of actions with that information. Reddit actually has a **API** (Application Program Interface) so that developers like us are easily able to access the information posted on Reddit. An API contains numerous prewritten functions/actions that we can directly use without having to write ourselves. If you are interested in exploring the extensive API yourself, check it out [here](https://www.reddit.com/dev/api).\n",
    "\n",
    "Special Note: Reddit has some rules that they have in place for developers. Most importantly, you can't make more than 1 request every 2 seconds. This is to prevent bots from spamming Reddit. If you are interested, check out all the rules [here](https://github.com/reddit/reddit/wiki/API): "
   ]
  },
  {
   "cell_type": "markdown",
   "metadata": {},
   "source": [
    "## Reading Data\n",
    "The first thing our bot has to do is read information from Reddit. Using Reddit's API, our bot is going to request some information from the website, and Reddit is going to send this data to our bot in the form of a **JSON**. JSON stands for JavaScript Object Notation and is just a common way to package up and simiplify data for us to use. You might have noticed it has the word JavaScript in the name, another commmon programming language. The use of JSON derived from JavaScript, but now is used in many more languages including Python, which we will be using today.\n",
    "\n",
    "We are going to use the subreddit https://www.reddit.com/r/aww for today's example. Go ahead and navigate to it to see what it looks like normally for a user.\n",
    "\n",
    "What our bot is going to read, however, is the JSON version of this webpage. Go ahead and navigate to https://www.reddit.com/r/aww/hot/.json to see what our bot is going to see.\n",
    "\n",
    "JSON objects are very similar to something we call a **Dictionary** in Python. Lets first learn about dictionaries."
   ]
  },
  {
   "cell_type": "markdown",
   "metadata": {},
   "source": [
    "### Dictionaries\n",
    "Dictionaries is a way to store data in Python. We have things we call key, value pairs. In an analogy to an actual dictionary, the words would be keys and the definitions would be values. Given a specific key, we are able to lookup or store a value."
   ]
  },
  {
   "cell_type": "code",
   "execution_count": null,
   "metadata": {
    "collapsed": false
   },
   "outputs": [],
   "source": [
    "dict_apples = {}  # Brackets are used to create dictionaries. Here, dict_apple is set to an empty dictionary.\n",
    "dict_apples[\"Bob\"] = 10  # If we wanted to store that Bob had 10 apples, we could do so in the dictionary.\n",
    "dict_apples[\"Alice\"] = 4\n",
    "\n",
    "x = dict_apples[\"Bob\"]  # Given the key \"Bob\", we can look up the value (10)\n",
    "print(\"Bob has \" + str(x) + \" apples\")\n",
    "\n",
    "dict_apples[\"Bob\"] = 1  # We can change/update the value of a key. Here, lets say Bob now only has 1 apple.\n",
    "y = dict_apples[\"Bob\"] \n",
    "print(\"Bob now has \" + str(y) + \" apple\")"
   ]
  },
  {
   "cell_type": "markdown",
   "metadata": {},
   "source": [
    "We will be using this idea of using a key to look at a value extensivly to process the data that the bot receives.\n",
    "\n",
    "**praw** is a library in Python that is used to access information from Reddit. Libraries are programs other developers write that we can use. This library will read from Reddit and output a JSON. Let's go ahead and import this library so that we can use it.\n"
   ]
  },
  {
   "cell_type": "code",
   "execution_count": null,
   "metadata": {
    "collapsed": false
   },
   "outputs": [],
   "source": [
    "import praw"
   ]
  },
  {
   "cell_type": "markdown",
   "metadata": {},
   "source": [
    "Reddit also requires every bot to have a **user_agent** field. This makes every bot unique, and allows Reddit to ban bots if Reddit's rules are broken. Let's define a user_agent, and go ahead and pull information from Reddit. "
   ]
  },
  {
   "cell_type": "code",
   "execution_count": null,
   "metadata": {
    "collapsed": false
   },
   "outputs": [],
   "source": [
    "user_agent = \"BearHack Reddit v0.1\"\n",
    "r = praw.Reddit(user_agent=user_agent)\n",
    "subreddit = r.get_subreddit(\"EarthPorn\") # We will select the \"EarthPorn\" subreddit. \n",
    "\n",
    "for submission in subreddit.get_hot(limit=5): # This will loop through the 5 most \"hot\" (popular) posts\n",
    "    print (\"Title: \", submission.title)       # submission.title gets the title\n",
    "    print (\"Text: \", submission.selftext)     # submission.selftext gets the text\n",
    "    print (\"Score: \", submission.score)       # submission.score gets the score\n",
    "    print (\"URL: \", submission.url)\n",
    "    print (\"------------------------------------------------------\\n\")"
   ]
  },
  {
   "cell_type": "markdown",
   "metadata": {},
   "source": [
    "Notice how we use `submission` and `submission.[FIELD]`\n",
    "\n",
    "Each `submission` just represents one post, and the data store in this variable is changed throughout the loop. Each submission is just like a dictionary, we are able to write a key to it (e.g. writing `.title` behind it) and it will return a value (e.g. The title of the post). Run the code below to see all the possible keys."
   ]
  },
  {
   "cell_type": "code",
   "execution_count": null,
   "metadata": {
    "collapsed": false
   },
   "outputs": [],
   "source": [
    "for submission in subreddit.get_hot(limit=1): #This will loop through the 5 most \"hot\" (popular) posts\n",
    "    print(dir(submission))"
   ]
  },
  {
   "cell_type": "markdown",
   "metadata": {},
   "source": [
    "The most important ones to note (and probably the most used) are `title`, `selftext`, `score`, and `url` but feel free to experiment with any of the keys."
   ]
  },
  {
   "cell_type": "markdown",
   "metadata": {},
   "source": [
    "## Reading the Data\n",
    "\n",
    "Now that we have all the data from the subreddit, what do we do with the data? Here's where you can let your creativity wild. For this example, we're simply going to display the image related to the top link."
   ]
  },
  {
   "cell_type": "code",
   "execution_count": null,
   "metadata": {
    "collapsed": false
   },
   "outputs": [],
   "source": [
    "from IPython.display import Image\n",
    "import urllib.request\n",
    "\n",
    "image_url = None\n",
    "\n",
    "for submission in subreddit.get_top(limit=1):\n",
    "    image_url = submission.url                    #Stores the image URL of the top submission into the variable\n",
    "    \n",
    "urllib.request.urlretrieve(image_url, \"test.jpg\") #Reads from the URL we had stored, and displays it\n",
    "Image(filename='test.jpg') \n",
    "    \n",
    "\n"
   ]
  },
  {
   "cell_type": "markdown",
   "metadata": {},
   "source": [
    "## Future Ideas\n",
    "\n",
    "We have simply just touched the surface of creating a Reddit Bot. Using just what you have learned, and a little bit of googling (every programmers greatest tool), there are many many projects you could try to make. Below are just some examples. Free feel to try to do them, or come up with something completely on your own! Definitely ask mentors for help if you have any questions.\n",
    "\n",
    "* Have a Reddit Bot reply to posts on Reddit based on specific words. Checkout this [tutorial](http://pythonforengineers.com/build-a-reddit-bot-part-2-reply-to-posts/) if you want more guidance on this topic\n",
    "\n",
    "* Have a Reddit Bot only reply to your one friend, anytime he posts on a popular thread."
   ]
  },
  {
   "cell_type": "code",
   "execution_count": null,
   "metadata": {
    "collapsed": true
   },
   "outputs": [],
   "source": []
  }
 ],
 "metadata": {
  "kernelspec": {
   "display_name": "Python 3",
   "language": "python",
   "name": "python3"
  },
  "language_info": {
   "codemirror_mode": {
    "name": "ipython",
    "version": 3
   },
   "file_extension": ".py",
   "mimetype": "text/x-python",
   "name": "python",
   "nbconvert_exporter": "python",
   "pygments_lexer": "ipython3",
   "version": "3.5.1"
  }
 },
 "nbformat": 4,
 "nbformat_minor": 0
}
