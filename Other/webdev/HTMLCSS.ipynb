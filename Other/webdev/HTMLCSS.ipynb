{
 "cells": [
  {
   "cell_type": "markdown",
   "metadata": {},
   "source": [
    "# Making a Personal Site with HTML/CSS tutorial!\n",
    "\n",
    "In this web development module, we will take you through making a basic webpage using HTML and CSS. This requires no previous coding experience. By the end of this module, you will be able to create a simple webpage on pretty much any topic you want. Have fun!\n",
    "\n",
    "\n",
    "## Table of Contents\n",
    "\n",
    "* [Introduction- What is HTML?](#intro)\n",
    "* [Toolbox](#part1)"
   ]
  },
  {
   "cell_type": "markdown",
   "metadata": {},
   "source": [
    "<a id='intro'></a>\n",
    "## Introduction - What is HTML?\n",
    "\n",
    "* HTML stands for Hyper Text Markup Language\n",
    "* It describes the structure of Web pages \n",
    "* HTML elements are the building blocks of HTML pages \n",
    "* HTML elements are represented by tags (eg. < html >< /html >). HTML tags label pieces of content such as \"heading\", \"paragraph\", \"table\", and so on. Browsers do not display the HTML tags, but use them to render the content of the page\n",
    "\n",
    "![df](https://cdn.meme.am/instances/59200873.jpg)\n",
    "\n",
    "<a id='part1'></a>\n",
    "## Simple Example\n",
    "Take a look at the HTML code provided below. If it doen't make sense to you, don't worry. We will go through each piece of it in detail. When you have looked at the code, run it and see the output. To run press SHIFT ENTER (ask a mentor if you have any problems) "
   ]
  },
  {
   "cell_type": "code",
   "execution_count": null,
   "metadata": {
    "collapsed": false
   },
   "outputs": [],
   "source": [
    "%%html\n",
    "<!DOCTYPE html>\n",
    "<html>\n",
    "<head>\n",
    "<title>Hello World</title>\n",
    "</head>\n",
    "<body>\n",
    "\n",
    "<h1>My First Heading</h1>  \n",
    "<p>My first paragraph.</p>  \n",
    "\n",
    "</body>\n",
    "</html>"
   ]
  },
  {
   "cell_type": "markdown",
   "metadata": {
    "collapsed": false
   },
   "source": [
    "********\n",
    "## Example Explained\n",
    "* The <!DOCTYPE html> declaration defines this document to be HTML5\n",
    "* The < html> element is the root element of an HTML page. Every html file needs to start with it.\n",
    "* The < head> element contains meta information about the document. This will not be printed on the page, but can be used as a reference by web developers.\n",
    "* The < title> element specifies a title for the document. This is what appears on the tab of the page when you look at it on a web browser.\n",
    "* The < body> element contains the visible page content. ANything you want to display shows up here.\n",
    "* The < h1> element defines a large heading. You can adjust the size of the heading to whatever you want (eg h2, h3)\n",
    "* The < p> element defines a paragraph\n",
    "\n",
    "#### Slight Modifications\n",
    "Make the following modifications (one at a time) to the code above and re-run the code:\n",
    "1. Replace the header (line 9) with your name and the paragraph (line 10) with your favorite line from a song (we all have one)\n",
    "2. Decrease the size of your name (hint: see the explanation of < h1> given above) "
   ]
  },
  {
   "cell_type": "markdown",
   "metadata": {},
   "source": [
    "<a id='part1'></a>\n",
    "## Toolbox - What do you need to make a basic webpage?\n",
    "\n",
    "Any webpage has the following basic components:\n",
    "1. headings (title or titles of the page) \n",
    "2. paragraphs (longer entries on the page)\n",
    "3. images \n",
    "4. links (you can link to other favorite websites on your website to share them)\n"
   ]
  },
  {
   "cell_type": "markdown",
   "metadata": {
    "collapsed": false
   },
   "source": [
    "## Getting started with a text editor\n",
    "\n",
    "Open any convenient text editor (Sublime Text or Notepad). Sublime is recommended because it will highlight your code to make it more readable. Open the starter.html file, but feel free to rename it as 'Your name.html', with your name used. Once you have done that, right click on the file, and open it using a web browser (E.g. Google Chrome or Safari). You will be able to see your page how it would appear on a website.\n",
    "\n",
    "Congratulations, you have just completed your first webpage! But I'm sure there is alot more you wish to add (more text, images, links, etc)."
   ]
  },
  {
   "cell_type": "markdown",
   "metadata": {},
   "source": [
    "### Headings\n",
    "Headings are defined with the h1 to h6 tags. They are used for titles, or subtitles. The convention is to use h1 for the main title, and h2 for subtitle, and h3 for the next level of title and so forth."
   ]
  },
  {
   "cell_type": "code",
   "execution_count": null,
   "metadata": {
    "collapsed": false
   },
   "outputs": [],
   "source": [
    "%%html\n",
    "<!DOCTYPE html>\n",
    "<html>\n",
    "<head>\n",
    "<title>Hello World</title>\n",
    "</head>\n",
    "<body>\n",
    "<h1>This is an h1 tag, the main title</h1>\n",
    "<h2>This is an h2 tag</h2>\n",
    "<h3>This is an h3 tag</h3>\n",
    "<h4>This is an h4 tag</h4>\n",
    "\n",
    "</body>\n",
    "</html>"
   ]
  },
  {
   "cell_type": "markdown",
   "metadata": {},
   "source": [
    "### Paragraphs\n",
    "\n",
    "Run the following code. (You don't have to read it, but feel free to if you're interested in how a college course works)"
   ]
  },
  {
   "cell_type": "code",
   "execution_count": null,
   "metadata": {
    "collapsed": false
   },
   "outputs": [],
   "source": [
    "%%html\n",
    "<!DOCTYPE html>\n",
    "<html>\n",
    "<head>\n",
    "<title>Hello World</title>\n",
    "</head>\n",
    "<body>\n",
    "\n",
    "<p>We can use paragraphs for larger chucks of text that we want on our website. Feel free to use them for descriptions \n",
    "of yourself or your hobbies.</p>\n",
    "<p>There is no constraint on how long or how short you make a paragraph, but notice how it is unbolded and is smaller\n",
    "than headings</p>\n",
    "\n",
    "</body>\n",
    "</html>"
   ]
  },
  {
   "cell_type": "markdown",
   "metadata": {},
   "source": [
    "### Images\n",
    "Images make a webpage cool, and you can use it to showcase vacation photos or old albums on your facebook. Run the following code, beware the bear will be really big."
   ]
  },
  {
   "cell_type": "code",
   "execution_count": null,
   "metadata": {
    "collapsed": false
   },
   "outputs": [],
   "source": [
    "%%html\n",
    "<!DOCTYPE html>\n",
    "<html>\n",
    "<head>\n",
    "<title>Hello World</title>\n",
    "</head>\n",
    "<body>\n",
    "<img src=\"namanbear.jpg\"></img>\n",
    "</body>\n",
    "</html>"
   ]
  },
  {
   "cell_type": "markdown",
   "metadata": {},
   "source": [
    "### Resizing images\n",
    "One way to resize the image to be smaller is with CSS (Cascading Style Sheets). One way to add styling is to add a style attribute in the tag to change an element's styling. You can also add CSS in an external file. Here is the same bear but resized to the right dimensions"
   ]
  },
  {
   "cell_type": "code",
   "execution_count": null,
   "metadata": {
    "collapsed": false
   },
   "outputs": [],
   "source": [
    "%%html\n",
    "<!DOCTYPE html>\n",
    "<html>\n",
    "<head>\n",
    "<title>Hello World</title>\n",
    "</head>\n",
    "<body>\n",
    "<img style=\"width:200px;\" src=\"namanbear.jpg\"></img>\n",
    "</body>\n",
    "</html>"
   ]
  },
  {
   "cell_type": "markdown",
   "metadata": {},
   "source": [
    "That's much better! Now you know how to harness images in your webpages."
   ]
  },
  {
   "cell_type": "markdown",
   "metadata": {},
   "source": [
    "### Links or the a tag\n",
    "We can also link other websites on our webpage with the a tag just put the link in the href attribute in the tag. \n",
    "### Warning: if you click the link you will leave this page, but you have the option to right click and open the link in another tab."
   ]
  },
  {
   "cell_type": "code",
   "execution_count": null,
   "metadata": {
    "collapsed": false
   },
   "outputs": [],
   "source": [
    "%%html\n",
    "<!DOCTYPE html>\n",
    "<html>\n",
    "<head>\n",
    "<title>Hello World</title>\n",
    "</head>\n",
    "<body>\n",
    "<a href=\"google.com\">Google!</a>\n",
    "</body>\n",
    "</html>"
   ]
  },
  {
   "cell_type": "markdown",
   "metadata": {},
   "source": [
    "### Go Explore!!!\n",
    "Now that you know these basics, go open starter.html and play around with the html elements that you have learned here\n",
    "If you want to style stuff up, feel free to ask a mentor, but it will basically be CSS that we used to change the width\n",
    "of the image, but instead use it to change attributes like color, padding, font, etc."
   ]
  },
  {
   "cell_type": "code",
   "execution_count": null,
   "metadata": {
    "collapsed": true
   },
   "outputs": [],
   "source": []
  }
 ],
 "metadata": {
  "anaconda-cloud": {},
  "kernelspec": {
   "display_name": "Python 3",
   "language": "python",
   "name": "python3"
  },
  "language_info": {
   "codemirror_mode": {
    "name": "ipython",
    "version": 3
   },
   "file_extension": ".py",
   "mimetype": "text/x-python",
   "name": "python",
   "nbconvert_exporter": "python",
   "pygments_lexer": "ipython3",
   "version": "3.5.1"
  }
 },
 "nbformat": 4,
 "nbformat_minor": 0
}
